{
 "cells": [
  {
   "cell_type": "code",
   "execution_count": 1,
   "metadata": {},
   "outputs": [],
   "source": [
    "import numpy as np"
   ]
  },
  {
   "cell_type": "code",
   "execution_count": null,
   "metadata": {},
   "outputs": [],
   "source": []
  },
  {
   "cell_type": "code",
   "execution_count": 2,
   "metadata": {},
   "outputs": [
    {
     "name": "stdout",
     "output_type": "stream",
     "text": [
      "54.99999999999999\n",
      "49.999999999999986\n"
     ]
    }
   ],
   "source": [
    "Pwm_FIS_kiri = np.array([[10,10,10],[10,80,50],[10,50,80]])\n",
    "Pwm_FIS_Kanan = np.array([[80,50,10],[50,80,10],[10,10,10]])\n",
    "\n",
    "error = 1\n",
    "derror = -2\n",
    "\n",
    "uerror = np.zeros((3))\n",
    "uderror = np.zeros((3))\n",
    "FisPWN = np.zeros((3,3))\n",
    "upwm = np.array([10,50,80])\n",
    "\n",
    "\n",
    "\n",
    "def fuzzerror():\n",
    "    if error < 0:\n",
    "        uerror[0] = 1-(error+6)/(6)\n",
    "    else :\n",
    "       uerror[0] = 0 \n",
    "    \n",
    "    if (error>-6) and (error<=0):\n",
    "        uerror[1] = (error+6)/(6)\n",
    "    elif ((error>0) and (error<=6)):\n",
    "        uerror[1] = 1-(error)/(6)\n",
    "    else :\n",
    "        uerror[1] = 0\n",
    "    \n",
    "    if error > 0 :\n",
    "        uerror[2] = (error)/(6)\n",
    "    else:\n",
    "        uerror[2] =0\n",
    "\n",
    "def fuzzderror():\n",
    "    if derror < 0:\n",
    "        uderror[0] = 1-(derror+6)/(6)\n",
    "    else :\n",
    "       uderror[0] = 0 \n",
    "    \n",
    "    if (derror>-6) and (derror<=0):\n",
    "        uderror[1] = (derror+6)/(6)\n",
    "    elif ((derror>0) and (derror<=6)):\n",
    "        uderror[1] = 1-(derror)/(6)\n",
    "    else :\n",
    "        uderror[1] = 0\n",
    "    \n",
    "    if derror > 0 :\n",
    "        uderror[2] = (derror)/(6)\n",
    "    else:\n",
    "        uderror[2] =0\n",
    "\n",
    "fuzzerror()\n",
    "fuzzderror()\n",
    "\n",
    "def fuzzyfikasi():\n",
    "    for i in range(3):\n",
    "        for j in range(3):\n",
    "            FisPWN[i][j] = min(uderror[i],uerror[j])\n",
    "\n",
    "fuzzyfikasi()\n",
    "\n",
    "JumlahFIS = 0\n",
    "#defuzzifikasi \n",
    "for i in range (3):\n",
    "    for j in range(3):\n",
    "        JumlahFIS += FisPWN[j][i]\n",
    "\n",
    "num_kanan = 0\n",
    "num_kiri = 0\n",
    "for i in range(3):\n",
    "    for j in range(3):\n",
    "        num_kanan += FisPWN[i][j] * Pwm_FIS_Kanan[i][j]\n",
    "        num_kiri += FisPWN[i][j] * Pwm_FIS_kiri[i][j]\n",
    "\n",
    "Pwm_kanan = num_kanan/JumlahFIS\n",
    "Pwm_kiri = num_kiri/JumlahFIS\n",
    "\n",
    "print(Pwm_kanan)\n",
    "print(Pwm_kiri)"
   ]
  },
  {
   "cell_type": "code",
   "execution_count": null,
   "metadata": {},
   "outputs": [],
   "source": []
  }
 ],
 "metadata": {
  "kernelspec": {
   "display_name": "Python 3",
   "language": "python",
   "name": "python3"
  },
  "language_info": {
   "codemirror_mode": {
    "name": "ipython",
    "version": 3
   },
   "file_extension": ".py",
   "mimetype": "text/x-python",
   "name": "python",
   "nbconvert_exporter": "python",
   "pygments_lexer": "ipython3",
   "version": "3.10.11"
  }
 },
 "nbformat": 4,
 "nbformat_minor": 2
}
