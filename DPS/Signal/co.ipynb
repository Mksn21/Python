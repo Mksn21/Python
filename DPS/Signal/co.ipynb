{
 "cells": [
  {
   "cell_type": "code",
   "execution_count": null,
   "metadata": {},
   "outputs": [],
   "source": [
    "        for i in range(0,2*M+1):\n",
    "                x[-i]=x[0]\n",
    "        for a in range(-M,M):\n",
    "                if P=='LPF':\n",
    "                        for a in range(-M,M):\n",
    "                                h[a]=(np.sin(ohmfc*a))/(a*np.pi)        \n",
    "                        h[0]=ohmfc/np.pi\n",
    "                        h[M]=h[-M]\n",
    "                if P == 'HPF':\n",
    "                        for a in range(-M,M):\n",
    "                                h[a]=-1*((np.sin(ohmfc*a))/(a*np.pi))    \n",
    "                        h[0]=(np.pi-ohmfc)/np.pi\n",
    "                        h[M]=h[-M]\n",
    "                if P == 'BSF':\n",
    "                        for a in range(-M,M):\n",
    "                                h[a]=(-(np.sin(ohmfh*a)/a*np.pi))+(np.sin(ohmfl*a)/a*np.pi)    \n",
    "                        h[0]=(np.pi- ohmfh + ohmfl)/np.pi\n",
    "                        h[M]=h[-M]\n",
    "                if P == 'BPF':\n",
    "                        for a in range (-M,M):\n",
    "                                h[a]=(np.sin(ohmfh*a)/(a*np.pi))-(np.sin(ohmfl*a)/(a*np.pi))\n",
    "                        h[0]=(ohmfh-ohmfl)/np.pi\n",
    "                        h[M]=h[-M]"
   ]
  }
 ],
 "metadata": {
  "language_info": {
   "name": "python"
  },
  "orig_nbformat": 4
 },
 "nbformat": 4,
 "nbformat_minor": 2
}
